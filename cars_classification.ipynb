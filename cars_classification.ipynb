{
  "cells": [
    {
      "cell_type": "code",
      "source": [],
      "metadata": {
        "id": "7DMMpJLotSb9"
      },
      "id": "7DMMpJLotSb9",
      "execution_count": null,
      "outputs": []
    },
    {
      "cell_type": "code",
      "source": [
        "from google.colab import drive\n",
        "drive.mount('/content/drive')"
      ],
      "metadata": {
        "colab": {
          "base_uri": "https://localhost:8080/"
        },
        "id": "gs9S-nOdtZ-C",
        "outputId": "704fad46-c7d8-4e55-f394-14ad742174d5"
      },
      "id": "gs9S-nOdtZ-C",
      "execution_count": 1,
      "outputs": [
        {
          "output_type": "stream",
          "name": "stdout",
          "text": [
            "Mounted at /content/drive\n"
          ]
        }
      ]
    },
    {
      "cell_type": "code",
      "execution_count": 2,
      "id": "068a78cd-0184-4c93-91c3-51811fc15216",
      "metadata": {
        "id": "068a78cd-0184-4c93-91c3-51811fc15216"
      },
      "outputs": [],
      "source": [
        "import tensorflow as tf"
      ]
    },
    {
      "cell_type": "code",
      "execution_count": null,
      "id": "12ff54f6-d467-4ad7-8541-a40db8b4443c",
      "metadata": {
        "id": "12ff54f6-d467-4ad7-8541-a40db8b4443c"
      },
      "outputs": [],
      "source": [
        "# # How many images in each folder?\n",
        "# import os\n",
        "\n",
        "# # Walk through 10 percent data directory and list number of files\n",
        "# for dirpath, dirnames, filenames in os.walk(\"data\"):\n",
        "#   print(f\"There are {len(dirnames)} directories and {len(filenames)} images in '{dirpath}'.\")"
      ]
    },
    {
      "cell_type": "code",
      "execution_count": null,
      "id": "ed39d45a-745c-40fe-a46b-52c0ecd11db7",
      "metadata": {
        "id": "ed39d45a-745c-40fe-a46b-52c0ecd11db7"
      },
      "outputs": [],
      "source": [
        "# import os\n",
        "# import random\n",
        "# import shutil\n",
        "\n",
        "# def split_data(source_dir, train_dir, test_dir, split_ratio=0.8, seed=42):\n",
        "#     random.seed(seed)  # Set the random seed for reproducibility\n",
        "#     if not os.path.exists(train_dir):\n",
        "#         os.makedirs(train_dir)\n",
        "#     if not os.path.exists(test_dir):\n",
        "#         os.makedirs(test_dir)\n",
        "\n",
        "#     for category in os.listdir(source_dir):\n",
        "#         category_path = os.path.join(source_dir, category)\n",
        "#         if os.path.isdir(category_path):\n",
        "#             images = os.listdir(category_path)\n",
        "#             random.shuffle(images)\n",
        "\n",
        "#             train_size = int(len(images) * split_ratio)\n",
        "#             train_images = images[:train_size]\n",
        "#             test_images = images[train_size:]\n",
        "\n",
        "#             category_train_dir = os.path.join(train_dir, category)\n",
        "#             category_test_dir = os.path.join(test_dir, category)\n",
        "\n",
        "#             if not os.path.exists(category_train_dir):\n",
        "#                 os.makedirs(category_train_dir)\n",
        "#             if not os.path.exists(category_test_dir):\n",
        "#                 os.makedirs(category_test_dir)\n",
        "\n",
        "#             for image in train_images:\n",
        "#                 shutil.copy(os.path.join(category_path, image), category_train_dir)\n",
        "\n",
        "#             for image in test_images:\n",
        "#                 shutil.copy(os.path.join(category_path, image), category_test_dir)\n",
        "\n",
        "\n",
        "# source_directory = 'data'\n",
        "# train_directory = 'data_split/train'\n",
        "# test_directory = 'data_split/test'\n",
        "\n",
        "\n",
        "# split_data(source_directory, train_directory, test_directory)\n"
      ]
    },
    {
      "cell_type": "code",
      "execution_count": 3,
      "id": "6b16cff1-4c9d-4014-959b-f8123341c8bd",
      "metadata": {
        "colab": {
          "base_uri": "https://localhost:8080/"
        },
        "id": "6b16cff1-4c9d-4014-959b-f8123341c8bd",
        "outputId": "c78a335b-fc89-4b25-99a6-4a86083c5f1d"
      },
      "outputs": [
        {
          "output_type": "stream",
          "name": "stdout",
          "text": [
            "There are 2 directories and 0 images in '/content/drive/MyDrive/cars_dataset/data_split'.\n",
            "There are 5 directories and 0 images in '/content/drive/MyDrive/cars_dataset/data_split/train'.\n",
            "There are 0 directories and 64 images in '/content/drive/MyDrive/cars_dataset/data_split/train/Audi cars'.\n",
            "There are 0 directories and 64 images in '/content/drive/MyDrive/cars_dataset/data_split/train/honda cars'.\n",
            "There are 0 directories and 64 images in '/content/drive/MyDrive/cars_dataset/data_split/train/suzuki cars'.\n",
            "There are 0 directories and 64 images in '/content/drive/MyDrive/cars_dataset/data_split/train/mercedes cars'.\n",
            "There are 0 directories and 64 images in '/content/drive/MyDrive/cars_dataset/data_split/train/mahindra cars'.\n",
            "There are 5 directories and 0 images in '/content/drive/MyDrive/cars_dataset/data_split/test'.\n",
            "There are 0 directories and 16 images in '/content/drive/MyDrive/cars_dataset/data_split/test/mahindra cars'.\n",
            "There are 0 directories and 16 images in '/content/drive/MyDrive/cars_dataset/data_split/test/suzuki cars'.\n",
            "There are 0 directories and 16 images in '/content/drive/MyDrive/cars_dataset/data_split/test/mercedes cars'.\n",
            "There are 0 directories and 16 images in '/content/drive/MyDrive/cars_dataset/data_split/test/honda cars'.\n",
            "There are 0 directories and 17 images in '/content/drive/MyDrive/cars_dataset/data_split/test/Audi cars'.\n"
          ]
        }
      ],
      "source": [
        "import os\n",
        "for dirpath, dirnames, filenames in os.walk(\"/content/drive/MyDrive/cars_dataset/data_split\"):\n",
        "  print(f\"There are {len(dirnames)} directories and {len(filenames)} images in '{dirpath}'.\")"
      ]
    },
    {
      "cell_type": "code",
      "source": [
        "from PIL import Image\n",
        "import os\n",
        "\n",
        "def convert_to_rgba(image_path):\n",
        "    with Image.open(image_path) as img:\n",
        "        if img.mode == 'P':  # Check if the image is in palette mode\n",
        "            img = img.convert('RGBA')\n",
        "        img.save(image_path)  # Save the converted image back to the same path\n",
        "\n",
        "# Apply this conversion to all images in your dataset directories\n",
        "for dirpath, dirnames, filenames in os.walk(\"data_split\"):\n",
        "    for filename in filenames:\n",
        "        if filename.endswith(\".png\"):  # Adjust the condition for other formats if needed\n",
        "            convert_to_rgba(os.path.join(dirpath, filename))\n"
      ],
      "metadata": {
        "id": "6BUj2B2uV3Cq"
      },
      "id": "6BUj2B2uV3Cq",
      "execution_count": 4,
      "outputs": []
    },
    {
      "cell_type": "code",
      "execution_count": 5,
      "id": "153a4b88-6e01-4df5-8971-6afc538b43c2",
      "metadata": {
        "id": "153a4b88-6e01-4df5-8971-6afc538b43c2"
      },
      "outputs": [],
      "source": [
        "from keras.applications.vgg16 import VGG16"
      ]
    },
    {
      "cell_type": "code",
      "execution_count": 6,
      "id": "2f243dd8-40d2-40fb-b630-e49903d28696",
      "metadata": {
        "id": "2f243dd8-40d2-40fb-b630-e49903d28696",
        "colab": {
          "base_uri": "https://localhost:8080/"
        },
        "outputId": "79a4bfd7-329f-44a9-ad94-0085648a16f7"
      },
      "outputs": [
        {
          "output_type": "stream",
          "name": "stdout",
          "text": [
            "Downloading data from https://storage.googleapis.com/tensorflow/keras-applications/vgg16/vgg16_weights_tf_dim_ordering_tf_kernels_notop.h5\n",
            "58889256/58889256 [==============================] - 0s 0us/step\n"
          ]
        }
      ],
      "source": [
        "IMAGE_SIZE = [224, 224]\n",
        "VGG=VGG16(\n",
        "    include_top=False,\n",
        "    weights=\"imagenet\",\n",
        "    input_shape=IMAGE_SIZE + [3],\n",
        ")"
      ]
    },
    {
      "cell_type": "code",
      "source": [
        "for layer in VGG.layers:\n",
        "    layer.trainable = False"
      ],
      "metadata": {
        "id": "R5b_n5dVYDOn"
      },
      "id": "R5b_n5dVYDOn",
      "execution_count": 7,
      "outputs": []
    },
    {
      "cell_type": "code",
      "execution_count": 8,
      "id": "56023739-e5cf-4bc0-9a25-6a909c8e3e5f",
      "metadata": {
        "colab": {
          "base_uri": "https://localhost:8080/"
        },
        "id": "56023739-e5cf-4bc0-9a25-6a909c8e3e5f",
        "outputId": "49a58540-2928-47dc-eb09-a1985204a188"
      },
      "outputs": [
        {
          "output_type": "stream",
          "name": "stdout",
          "text": [
            "Model: \"vgg16\"\n",
            "_________________________________________________________________\n",
            " Layer (type)                Output Shape              Param #   \n",
            "=================================================================\n",
            " input_1 (InputLayer)        [(None, 224, 224, 3)]     0         \n",
            "                                                                 \n",
            " block1_conv1 (Conv2D)       (None, 224, 224, 64)      1792      \n",
            "                                                                 \n",
            " block1_conv2 (Conv2D)       (None, 224, 224, 64)      36928     \n",
            "                                                                 \n",
            " block1_pool (MaxPooling2D)  (None, 112, 112, 64)      0         \n",
            "                                                                 \n",
            " block2_conv1 (Conv2D)       (None, 112, 112, 128)     73856     \n",
            "                                                                 \n",
            " block2_conv2 (Conv2D)       (None, 112, 112, 128)     147584    \n",
            "                                                                 \n",
            " block2_pool (MaxPooling2D)  (None, 56, 56, 128)       0         \n",
            "                                                                 \n",
            " block3_conv1 (Conv2D)       (None, 56, 56, 256)       295168    \n",
            "                                                                 \n",
            " block3_conv2 (Conv2D)       (None, 56, 56, 256)       590080    \n",
            "                                                                 \n",
            " block3_conv3 (Conv2D)       (None, 56, 56, 256)       590080    \n",
            "                                                                 \n",
            " block3_pool (MaxPooling2D)  (None, 28, 28, 256)       0         \n",
            "                                                                 \n",
            " block4_conv1 (Conv2D)       (None, 28, 28, 512)       1180160   \n",
            "                                                                 \n",
            " block4_conv2 (Conv2D)       (None, 28, 28, 512)       2359808   \n",
            "                                                                 \n",
            " block4_conv3 (Conv2D)       (None, 28, 28, 512)       2359808   \n",
            "                                                                 \n",
            " block4_pool (MaxPooling2D)  (None, 14, 14, 512)       0         \n",
            "                                                                 \n",
            " block5_conv1 (Conv2D)       (None, 14, 14, 512)       2359808   \n",
            "                                                                 \n",
            " block5_conv2 (Conv2D)       (None, 14, 14, 512)       2359808   \n",
            "                                                                 \n",
            " block5_conv3 (Conv2D)       (None, 14, 14, 512)       2359808   \n",
            "                                                                 \n",
            " block5_pool (MaxPooling2D)  (None, 7, 7, 512)         0         \n",
            "                                                                 \n",
            "=================================================================\n",
            "Total params: 14714688 (56.13 MB)\n",
            "Trainable params: 0 (0.00 Byte)\n",
            "Non-trainable params: 14714688 (56.13 MB)\n",
            "_________________________________________________________________\n"
          ]
        }
      ],
      "source": [
        "VGG.summary()"
      ]
    },
    {
      "cell_type": "code",
      "execution_count": 9,
      "id": "a95124d9-324b-4be1-8e03-e611d8af891b",
      "metadata": {
        "id": "a95124d9-324b-4be1-8e03-e611d8af891b"
      },
      "outputs": [],
      "source": [
        "from glob import glob\n",
        "# useful for getting number of output classes\n",
        "folders = glob('/content/drive/MyDrive/cars_dataset/data_split/train/*')"
      ]
    },
    {
      "cell_type": "code",
      "execution_count": null,
      "id": "bb2ae987-5fca-4136-ba1f-5455e32c13ad",
      "metadata": {
        "id": "bb2ae987-5fca-4136-ba1f-5455e32c13ad"
      },
      "outputs": [],
      "source": [
        "# from tensorflow.keras.layers import Input, Dense, Flatten\n",
        "# from tensorflow.keras.models import Model\n",
        "# # our layers - you can add more if you want\n",
        "# x = Flatten()(model.output)\n",
        "# prediction = Dense(len(folders), activation='softmax')(x)\n",
        "# # create a model object\n",
        "# model = Model(inputs=model.input, outputs=prediction)"
      ]
    },
    {
      "cell_type": "code",
      "source": [
        "from tensorflow.keras import layers\n",
        "model = tf.keras.Sequential([\n",
        "    VGG, # use the feature extraction layer as the base\n",
        "    layers.Flatten(),\n",
        "    layers.Dense(len(folders), activation='softmax', name='output_layer') # create our own output layer\n",
        "  ])"
      ],
      "metadata": {
        "id": "afn5iCjIyInJ"
      },
      "id": "afn5iCjIyInJ",
      "execution_count": 10,
      "outputs": []
    },
    {
      "cell_type": "code",
      "execution_count": 11,
      "id": "9e505c47-c3af-48e7-8c6c-d4f325277b4a",
      "metadata": {
        "id": "9e505c47-c3af-48e7-8c6c-d4f325277b4a"
      },
      "outputs": [],
      "source": [
        "# tell the model what cost and optimization method to use\n",
        "model.compile(\n",
        "  loss='categorical_crossentropy',\n",
        "  optimizer=tf.keras.optimizers.Adam(learning_rate=0.0001),\n",
        "  metrics=['accuracy']\n",
        ")"
      ]
    },
    {
      "cell_type": "code",
      "execution_count": 12,
      "id": "78453c3a-228b-4617-b0f3-59c3dd7268c1",
      "metadata": {
        "colab": {
          "base_uri": "https://localhost:8080/"
        },
        "id": "78453c3a-228b-4617-b0f3-59c3dd7268c1",
        "outputId": "9889448a-573a-4fa0-f7d3-3cd2a753ad34"
      },
      "outputs": [
        {
          "output_type": "stream",
          "name": "stdout",
          "text": [
            "Training images:\n",
            "Found 318 images belonging to 5 classes.\n",
            "Testing images:\n",
            "Found 81 images belonging to 5 classes.\n"
          ]
        }
      ],
      "source": [
        "# Use the Image Data Generator to import the images from the dataset\n",
        "import tensorflow as tf\n",
        "from tensorflow.keras.preprocessing.image import ImageDataGenerator\n",
        "IMG_SIZE = (224, 224) # define image size\n",
        "train_dir = \"/content/drive/MyDrive/cars_dataset/data_split/train/\"\n",
        "test_dir = \"/content/drive/MyDrive/cars_dataset/data_split/test/\"\n",
        "\n",
        "train_datagen = ImageDataGenerator(rescale = 1/255.,\n",
        "                                   shear_range = 0.2,\n",
        "                                   zoom_range = 0.2,\n",
        "                                   horizontal_flip = True)\n",
        "test_datagen = ImageDataGenerator(rescale=1/255.)\n",
        "\n",
        "print(\"Training images:\")\n",
        "train_data = train_datagen.flow_from_directory(train_dir,\n",
        "                                               target_size=IMAGE_SIZE,\n",
        "                                               batch_size=32,\n",
        "                                               class_mode=\"categorical\")\n",
        "\n",
        "print(\"Testing images:\")\n",
        "test_data = test_datagen.flow_from_directory(test_dir,\n",
        "                                              target_size=IMAGE_SIZE,\n",
        "                                              batch_size=32,\n",
        "                                              class_mode=\"categorical\")"
      ]
    },
    {
      "cell_type": "code",
      "execution_count": 13,
      "id": "d73fc5e1-8d9d-4f10-b10f-c2bef4c424e0",
      "metadata": {
        "colab": {
          "base_uri": "https://localhost:8080/"
        },
        "id": "d73fc5e1-8d9d-4f10-b10f-c2bef4c424e0",
        "outputId": "061c8958-8f69-4223-c5bf-fffb56d6ed4c"
      },
      "outputs": [
        {
          "output_type": "execute_result",
          "data": {
            "text/plain": [
              "{'Audi cars': 0,\n",
              " 'honda cars': 1,\n",
              " 'mahindra cars': 2,\n",
              " 'mercedes cars': 3,\n",
              " 'suzuki cars': 4}"
            ]
          },
          "metadata": {},
          "execution_count": 13
        }
      ],
      "source": [
        "train_data.class_indices"
      ]
    },
    {
      "cell_type": "code",
      "execution_count": 14,
      "id": "c867d7f9-5cbf-424b-9988-223614de51b5",
      "metadata": {
        "id": "c867d7f9-5cbf-424b-9988-223614de51b5"
      },
      "outputs": [],
      "source": [
        "# Create tensorboard callback (functionized because need to create a new one for each model)\n",
        "import datetime\n",
        "def create_tensorboard_callback(dir_name, experiment_name):\n",
        "  \"\"\"\n",
        "  Creates a TensorBoard callback instand to store log files.\n",
        "\n",
        "  Stores log files with the filepath:\n",
        "    \"dir_name/experiment_name/current_datetime/\"\n",
        "\n",
        "  Args:\n",
        "    dir_name: target directory to store TensorBoard log files\n",
        "    experiment_name: name of experiment directory (e.g. efficientnet_model_1)\n",
        "  \"\"\"\n",
        "  log_dir = dir_name + \"/\" + experiment_name + \"/\" + datetime.datetime.now().strftime(\"%Y%m%d-%H%M%S\")\n",
        "  tensorboard_callback = tf.keras.callbacks.TensorBoard(\n",
        "      log_dir=log_dir\n",
        "  )\n",
        "  print(f\"Saving TensorBoard log files to: {log_dir}\")\n",
        "  return tensorboard_callback"
      ]
    },
    {
      "cell_type": "code",
      "execution_count": 15,
      "id": "72e04cbb-07e3-45a3-8d89-463ac40c770b",
      "metadata": {
        "id": "72e04cbb-07e3-45a3-8d89-463ac40c770b"
      },
      "outputs": [],
      "source": [
        "# Setup checkpoint path\n",
        "checkpoint_path = \"model_weights/checkpoint.weights.h5\" # note: remember saving directly to Colab is temporary\n",
        "\n",
        "# Create a ModelCheckpoint callback that saves the model's weights only\n",
        "checkpoint_callback = tf.keras.callbacks.ModelCheckpoint(filepath=checkpoint_path,\n",
        "                                                         save_weights_only=True, # set to False to save the entire model\n",
        "                                                         save_best_only=True, # save only the best model weights instead of a model every epoch\n",
        "                                                         save_freq=\"epoch\", # save every epoch\n",
        "                                                         verbose=1)"
      ]
    },
    {
      "cell_type": "code",
      "source": [
        "# # Assume train_data is your data generator or dataset\n",
        "\n",
        "# # Fetch a batch of data\n",
        "# for batch in train_data.next():\n",
        "#     images, labels = batch\n",
        "#     print(f\"Labels shape: {labels.shape}\")\n",
        "#     print(f\"Labels sample: {labels[:5]}\")\n",
        "#     break\n"
      ],
      "metadata": {
        "id": "7RsXq1s9v1Q9"
      },
      "id": "7RsXq1s9v1Q9",
      "execution_count": null,
      "outputs": []
    },
    {
      "cell_type": "code",
      "execution_count": 16,
      "id": "fefd6485-acc1-4cec-8b19-ba9d5b364e00",
      "metadata": {
        "scrolled": true,
        "colab": {
          "base_uri": "https://localhost:8080/"
        },
        "id": "fefd6485-acc1-4cec-8b19-ba9d5b364e00",
        "outputId": "605b3021-bfbf-4475-cc26-a544390bfdf3"
      },
      "outputs": [
        {
          "output_type": "stream",
          "name": "stdout",
          "text": [
            "Saving TensorBoard log files to: transfer_learning3/cars_classification/20240525-045140\n",
            "Epoch 1/5\n",
            "10/10 [==============================] - ETA: 0s - loss: 1.7282 - accuracy: 0.2107 \n",
            "Epoch 1: val_loss improved from inf to 1.55496, saving model to model_weights/checkpoint.weights.h5\n",
            "10/10 [==============================] - 262s 25s/step - loss: 1.7282 - accuracy: 0.2107 - val_loss: 1.5550 - val_accuracy: 0.3210\n",
            "Epoch 2/5\n",
            "10/10 [==============================] - ETA: 0s - loss: 1.4520 - accuracy: 0.3585 \n",
            "Epoch 2: val_loss improved from 1.55496 to 1.42345, saving model to model_weights/checkpoint.weights.h5\n",
            "10/10 [==============================] - 273s 28s/step - loss: 1.4520 - accuracy: 0.3585 - val_loss: 1.4235 - val_accuracy: 0.3827\n",
            "Epoch 3/5\n",
            "10/10 [==============================] - ETA: 0s - loss: 1.2883 - accuracy: 0.4528 \n",
            "Epoch 3: val_loss improved from 1.42345 to 1.30682, saving model to model_weights/checkpoint.weights.h5\n",
            "10/10 [==============================] - 267s 27s/step - loss: 1.2883 - accuracy: 0.4528 - val_loss: 1.3068 - val_accuracy: 0.4568\n",
            "Epoch 4/5\n",
            "10/10 [==============================] - ETA: 0s - loss: 1.1295 - accuracy: 0.6101 \n",
            "Epoch 4: val_loss improved from 1.30682 to 1.22834, saving model to model_weights/checkpoint.weights.h5\n",
            "10/10 [==============================] - 273s 28s/step - loss: 1.1295 - accuracy: 0.6101 - val_loss: 1.2283 - val_accuracy: 0.4815\n",
            "Epoch 5/5\n",
            "10/10 [==============================] - ETA: 0s - loss: 1.0439 - accuracy: 0.6572 \n",
            "Epoch 5: val_loss improved from 1.22834 to 1.15507, saving model to model_weights/checkpoint.weights.h5\n",
            "10/10 [==============================] - 231s 23s/step - loss: 1.0439 - accuracy: 0.6572 - val_loss: 1.1551 - val_accuracy: 0.5802\n"
          ]
        }
      ],
      "source": [
        "History = model.fit(\n",
        "  train_data,\n",
        "  validation_data=test_data,\n",
        "  epochs=5,\n",
        "  steps_per_epoch=len(train_data),\n",
        "  validation_steps=len(test_data),\n",
        "  callbacks=[create_tensorboard_callback(\"transfer_learning3\", \"cars_classification\"),checkpoint_callback]\n",
        ")"
      ]
    },
    {
      "cell_type": "code",
      "source": [
        "# If you wanted to, you could really turn this into a helper function to load in with a helper.py script...\n",
        "import matplotlib.pyplot as plt\n",
        "\n",
        "# Plot the validation and training data separately\n",
        "def plot_loss_curves(history):\n",
        "  \"\"\"\n",
        "  Returns separate loss curves for training and validation metrics.\n",
        "  \"\"\"\n",
        "  loss = history.history['loss']\n",
        "  val_loss = history.history['val_loss']\n",
        "\n",
        "  accuracy = history.history['accuracy']\n",
        "  val_accuracy = history.history['val_accuracy']\n",
        "\n",
        "  epochs = range(len(history.history['loss']))\n",
        "\n",
        "  # Plot loss\n",
        "  plt.plot(epochs, loss, label='training_loss')\n",
        "  plt.plot(epochs, val_loss, label='val_loss')\n",
        "  plt.title('Loss')\n",
        "  plt.xlabel('Epochs')\n",
        "  plt.legend()\n",
        "\n",
        "  # Plot accuracy\n",
        "  plt.figure()\n",
        "  plt.plot(epochs, accuracy, label='training_accuracy')\n",
        "  plt.plot(epochs, val_accuracy, label='val_accuracy')\n",
        "  plt.title('Accuracy')\n",
        "  plt.xlabel('Epochs')\n",
        "  plt.legend();"
      ],
      "metadata": {
        "id": "aNmXq4SmWEup"
      },
      "id": "aNmXq4SmWEup",
      "execution_count": 17,
      "outputs": []
    },
    {
      "cell_type": "code",
      "source": [
        "plot_loss_curves(History)"
      ],
      "metadata": {
        "colab": {
          "base_uri": "https://localhost:8080/",
          "height": 927
        },
        "id": "uPtidj6rWqVq",
        "outputId": "8c3ba0f1-ff8d-4cd9-ea24-2cbd8040af65"
      },
      "id": "uPtidj6rWqVq",
      "execution_count": 18,
      "outputs": [
        {
          "output_type": "display_data",
          "data": {
            "text/plain": [
              "<Figure size 640x480 with 1 Axes>"
            ],
            "image/png": "[encoded data removed]"
          },
          "metadata": {}
        },
        {
          "output_type": "display_data",
          "data": {
            "text/plain": [
              "<Figure size 640x480 with 1 Axes>"
            ],
            "image/png": "[encoded data removed]"
          },
          "metadata": {}
        }
      ]
    },
    {
      "cell_type": "code",
      "source": [
        "# Check which layers are tuneable (trainable)\n",
        "for layer_number, layer in enumerate(VGG.layers):\n",
        "  print(layer_number, layer.name, layer.trainable)"
      ],
      "metadata": {
        "colab": {
          "base_uri": "https://localhost:8080/"
        },
        "id": "8P3s4GPfWr9y",
        "outputId": "a0b7c3bd-072b-4b02-edf8-d7f7297b92e4"
      },
      "id": "8P3s4GPfWr9y",
      "execution_count": 19,
      "outputs": [
        {
          "output_type": "stream",
          "name": "stdout",
          "text": [
            "0 input_1 False\n",
            "1 block1_conv1 False\n",
            "2 block1_conv2 False\n",
            "3 block1_pool False\n",
            "4 block2_conv1 False\n",
            "5 block2_conv2 False\n",
            "6 block2_pool False\n",
            "7 block3_conv1 False\n",
            "8 block3_conv2 False\n",
            "9 block3_conv3 False\n",
            "10 block3_pool False\n",
            "11 block4_conv1 False\n",
            "12 block4_conv2 False\n",
            "13 block4_conv3 False\n",
            "14 block4_pool False\n",
            "15 block5_conv1 False\n",
            "16 block5_conv2 False\n",
            "17 block5_conv3 False\n",
            "18 block5_pool False\n"
          ]
        }
      ]
    },
    {
      "cell_type": "code",
      "source": [
        "# Make all the layers in model_2_base_model trainable\n",
        "VGG.trainable = True\n",
        "\n",
        "# Freeze all layers except for the last 10\n",
        "for layer in VGG.layers[:-9]:\n",
        "  layer.trainable = False\n",
        "\n",
        "# Recompile the whole model (always recompile after any adjustments to a model)\n",
        "model.compile(loss=\"categorical_crossentropy\",\n",
        "                optimizer=tf.keras.optimizers.Adam(learning_rate=0.0001), # lr is 10x lower than before for fine-tuning\n",
        "                metrics=[\"accuracy\"])"
      ],
      "metadata": {
        "id": "9zw_nouaXIPm"
      },
      "id": "9zw_nouaXIPm",
      "execution_count": 20,
      "outputs": []
    },
    {
      "cell_type": "code",
      "source": [
        "# Check which layers are tuneable (trainable)\n",
        "for layer_number, layer in enumerate(VGG.layers):\n",
        "  print(layer_number, layer.name, layer.trainable)"
      ],
      "metadata": {
        "colab": {
          "base_uri": "https://localhost:8080/"
        },
        "id": "0Zxb-iFTdysH",
        "outputId": "43a77af3-78fe-4fd7-c372-33401ce5c91a"
      },
      "id": "0Zxb-iFTdysH",
      "execution_count": 21,
      "outputs": [
        {
          "output_type": "stream",
          "name": "stdout",
          "text": [
            "0 input_1 False\n",
            "1 block1_conv1 False\n",
            "2 block1_conv2 False\n",
            "3 block1_pool False\n",
            "4 block2_conv1 False\n",
            "5 block2_conv2 False\n",
            "6 block2_pool False\n",
            "7 block3_conv1 False\n",
            "8 block3_conv2 False\n",
            "9 block3_conv3 False\n",
            "10 block3_pool True\n",
            "11 block4_conv1 True\n",
            "12 block4_conv2 True\n",
            "13 block4_conv3 True\n",
            "14 block4_pool True\n",
            "15 block5_conv1 True\n",
            "16 block5_conv2 True\n",
            "17 block5_conv3 True\n",
            "18 block5_pool True\n"
          ]
        }
      ]
    },
    {
      "cell_type": "code",
      "source": [
        "# Fine tune for another 5 epochs\n",
        "fine_tune_epochs = 13\n",
        "\n",
        "# Refit the model (same as model_2 except with more trainable layers)\n",
        "history_fine_tune = model.fit(train_data,\n",
        "                                               epochs=fine_tune_epochs,\n",
        "                                               validation_data=test_data,\n",
        "                                               initial_epoch=History.epoch[-1], # start from previous last epoch\n",
        "                                               validation_steps=len(test_data),\n",
        "                                               callbacks=[create_tensorboard_callback(\"transfer_learning\", \"car_fine_tune_last_9\")]) # name experiment appropriately"
      ],
      "metadata": {
        "colab": {
          "base_uri": "https://localhost:8080/"
        },
        "id": "58ztPSdvd4QI",
        "outputId": "b6e9912f-0de8-424f-a56f-a8bc9dd0a693"
      },
      "id": "58ztPSdvd4QI",
      "execution_count": null,
      "outputs": [
        {
          "output_type": "stream",
          "name": "stdout",
          "text": [
            "Saving TensorBoard log files to: transfer_learning/car_fine_tune_last_9/20240525-051807\n",
            "Epoch 5/13\n",
            "10/10 [==============================] - 430s 43s/step - loss: 1.2214 - accuracy: 0.5283 - val_loss: 1.2000 - val_accuracy: 0.5556\n",
            "Epoch 6/13\n",
            "10/10 [==============================] - 416s 42s/step - loss: 0.7678 - accuracy: 0.7107 - val_loss: 1.1296 - val_accuracy: 0.5679\n",
            "Epoch 7/13\n",
            "10/10 [==============================] - 383s 38s/step - loss: 0.5110 - accuracy: 0.7956 - val_loss: 0.6634 - val_accuracy: 0.7778\n",
            "Epoch 8/13\n",
            "10/10 [==============================] - 418s 42s/step - loss: 0.2255 - accuracy: 0.9277 - val_loss: 0.6528 - val_accuracy: 0.8025\n",
            "Epoch 9/13\n",
            "10/10 [==============================] - 419s 42s/step - loss: 0.1942 - accuracy: 0.9434 - val_loss: 0.5958 - val_accuracy: 0.7778\n",
            "Epoch 10/13\n",
            "10/10 [==============================] - 418s 43s/step - loss: 0.0994 - accuracy: 0.9654 - val_loss: 0.5835 - val_accuracy: 0.7531\n",
            "Epoch 11/13\n",
            "10/10 [==============================] - 417s 43s/step - loss: 0.0526 - accuracy: 0.9906 - val_loss: 0.7083 - val_accuracy: 0.8272\n",
            "Epoch 12/13\n",
            " 2/10 [=====>........................] - ETA: 4:25 - loss: 0.0308 - accuracy: 1.0000"
          ]
        }
      ]
    },
    {
      "cell_type": "markdown",
      "source": [],
      "metadata": {
        "id": "U_gCEeomXDq7"
      },
      "id": "U_gCEeomXDq7"
    },
    {
      "cell_type": "code",
      "source": [
        "def compare_historys(original_history, new_history, initial_epochs=5):\n",
        "    \"\"\"\n",
        "    Compares two model history objects.\n",
        "    \"\"\"\n",
        "    # Get original history measurements\n",
        "    acc = original_history.history[\"accuracy\"]\n",
        "    loss = original_history.history[\"loss\"]\n",
        "\n",
        "    print(len(acc))\n",
        "\n",
        "    val_acc = original_history.history[\"val_accuracy\"]\n",
        "    val_loss = original_history.history[\"val_loss\"]\n",
        "\n",
        "    # Combine original history with new history\n",
        "    total_acc = acc + new_history.history[\"accuracy\"]\n",
        "    total_loss = loss + new_history.history[\"loss\"]\n",
        "\n",
        "    total_val_acc = val_acc + new_history.history[\"val_accuracy\"]\n",
        "    total_val_loss = val_loss + new_history.history[\"val_loss\"]\n",
        "\n",
        "    print(len(total_acc))\n",
        "    print(total_acc)\n",
        "\n",
        "    # Make plots\n",
        "    plt.figure(figsize=(8, 8))\n",
        "    plt.subplot(2, 1, 1)\n",
        "    plt.plot(total_acc, label='Training Accuracy')\n",
        "    plt.plot(total_val_acc, label='Validation Accuracy')\n",
        "    plt.plot([initial_epochs-1, initial_epochs-1],\n",
        "              plt.ylim(), label='Start Fine Tuning') # reshift plot around epochs\n",
        "    plt.legend(loc='lower right')\n",
        "    plt.title('Training and Validation Accuracy')\n",
        "\n",
        "    plt.subplot(2, 1, 2)\n",
        "    plt.plot(total_loss, label='Training Loss')\n",
        "    plt.plot(total_val_loss, label='Validation Loss')\n",
        "    plt.plot([initial_epochs-1, initial_epochs-1],\n",
        "              plt.ylim(), label='Start Fine Tuning') # reshift plot around epochs\n",
        "    plt.legend(loc='upper right')\n",
        "    plt.title('Training and Validation Loss')\n",
        "    plt.xlabel('epoch')\n",
        "    plt.show()"
      ],
      "metadata": {
        "id": "q4EYkew8eTTq"
      },
      "id": "q4EYkew8eTTq",
      "execution_count": null,
      "outputs": []
    },
    {
      "cell_type": "code",
      "source": [
        "compare_historys(original_history=History,\n",
        "                 new_history=history_fine_tune,\n",
        "                 initial_epochs=5)"
      ],
      "metadata": {
        "colab": {
          "base_uri": "https://localhost:8080/",
          "height": 790
        },
        "id": "DOZ4Xtq3e0X7",
        "outputId": "da81cb0d-1eed-4617-b094-3f6af16db2c8"
      },
      "id": "DOZ4Xtq3e0X7",
      "execution_count": null,
      "outputs": [
        {
          "output_type": "stream",
          "name": "stdout",
          "text": [
            "5\n",
            "11\n",
            "[0.219321146607399, 0.4203655421733856, 0.5561357736587524, 0.642297625541687, 0.7284595370292664, 0.4595300257205963, 0.767624020576477, 0.8302872180938721, 0.8929504156112671, 0.9634464979171753, 0.9608355164527893]\n"
          ]
        },
        {
          "output_type": "display_data",
          "data": {
            "text/plain": [
              "<Figure size 800x800 with 2 Axes>"
            ],
            "image/png": "[encoded data removed]"
          },
          "metadata": {}
        }
      ]
    },
    {
      "cell_type": "code",
      "source": [
        "# save it as a h5 file\n",
        "\n",
        "\n",
        "from tensorflow.keras.models import load_model\n",
        "\n",
        "model.save('vGG_model.h5')"
      ],
      "metadata": {
        "colab": {
          "base_uri": "https://localhost:8080/"
        },
        "id": "f0ckmtlae9lv",
        "outputId": "9429f106-e3db-4342-d10d-471dd033a881"
      },
      "id": "f0ckmtlae9lv",
      "execution_count": null,
      "outputs": [
        {
          "output_type": "stream",
          "name": "stderr",
          "text": [
            "/usr/local/lib/python3.10/dist-packages/keras/src/engine/training.py:3103: UserWarning: You are saving your model as an HDF5 file via `model.save()`. This file format is considered legacy. We recommend using instead the native Keras format, e.g. `model.save('my_model.keras')`.\n",
            "  saving_api.save_model(\n"
          ]
        }
      ]
    },
    {
      "cell_type": "code",
      "source": [
        "import numpy as np\n",
        "from tensorflow.keras.preprocessing import image\n",
        "from tensorflow.keras.applications.vgg16 import preprocess_input\n",
        "img=image.load_img('/content/drive/MyDrive/cars_dataset/data_split/test/honda cars/Image_21.jpg',target_size=(224,224))\n",
        "x=image.img_to_array(img)\n",
        "x=x/255.\n",
        "x=np.expand_dims(x,axis=0)\n",
        "img_data=preprocess_input(x)\n",
        "# Get class indices from train_data\n",
        "class_indices = train_data.class_indices\n",
        "\n",
        "# Reverse the class_indices dictionary to map indices to labels\n",
        "index_to_label = {v: k for k, v in class_indices.items()}\n",
        "\n",
        "# Get the predicted class indices\n",
        "a = np.argmax(model.predict(img_data), axis=1)\n",
        "print(a)\n",
        "# Map the predicted class indices to class labels\n",
        "predicted_labels = [index_to_label[i] for i in a]\n",
        "\n",
        "# Print the predicted labels\n",
        "print(predicted_labels)"
      ],
      "metadata": {
        "colab": {
          "base_uri": "https://localhost:8080/"
        },
        "id": "Q0zAVsrwf11d",
        "outputId": "9a67dcbe-b913-4e41-b34d-566ccc51c6ec"
      },
      "id": "Q0zAVsrwf11d",
      "execution_count": null,
      "outputs": [
        {
          "output_type": "stream",
          "name": "stdout",
          "text": [
            "1/1 [==============================] - 0s 28ms/step\n",
            "[2]\n",
            "['honda cars']\n"
          ]
        }
      ]
    },
    {
      "cell_type": "code",
      "source": [
        "print(train_data.class_indices)"
      ],
      "metadata": {
        "colab": {
          "base_uri": "https://localhost:8080/"
        },
        "id": "73N47moBh3Pb",
        "outputId": "258a3cae-d7c9-4300-d177-25dc2abffc8d"
      },
      "id": "73N47moBh3Pb",
      "execution_count": null,
      "outputs": [
        {
          "output_type": "stream",
          "name": "stdout",
          "text": [
            "{'Audi cars': 0, 'Lamborghini cars': 1, 'honda cars': 2, 'mahindra cars': 3, 'mercedes cars': 4, 'suzuki cars': 5}\n"
          ]
        }
      ]
    },
    {
      "cell_type": "code",
      "source": [
        "# Get class indices from train_data\n",
        "class_indices = train_data.class_indices\n",
        "\n",
        "# Reverse the class_indices dictionary to map indices to labels\n",
        "index_to_label = {v: k for k, v in class_indices.items()}\n",
        "\n",
        "# Get the predicted class indices\n",
        "a = np.argmax(model.predict(img_data), axis=1)\n",
        "\n",
        "# Map the predicted class indices to class labels\n",
        "predicted_labels = [index_to_label[i] for i in a]\n",
        "\n",
        "# Print the predicted labels\n",
        "print(predicted_labels)"
      ],
      "metadata": {
        "colab": {
          "base_uri": "https://localhost:8080/"
        },
        "id": "OvY_CM0igTjY",
        "outputId": "aa93c777-2c2a-492d-e061-3aa872e50c4c"
      },
      "id": "OvY_CM0igTjY",
      "execution_count": null,
      "outputs": [
        {
          "output_type": "stream",
          "name": "stdout",
          "text": [
            "1/1 [==============================] - 0s 18ms/step\n",
            "['honda cars']\n"
          ]
        }
      ]
    },
    {
      "cell_type": "code",
      "source": [],
      "metadata": {
        "id": "tYfokMD1hQoB"
      },
      "id": "tYfokMD1hQoB",
      "execution_count": null,
      "outputs": []
    }
  ],
  "metadata": {
    "kernelspec": {
      "display_name": "Python 3",
      "name": "python3"
    },
    "language_info": {
      "codemirror_mode": {
        "name": "ipython",
        "version": 3
      },
      "file_extension": ".py",
      "mimetype": "text/x-python",
      "name": "python",
      "nbconvert_exporter": "python",
      "pygments_lexer": "ipython3",
      "version": "3.12.3"
    },
    "colab": {
      "provenance": [],
      "gpuType": "T4"
    },
    "accelerator": "GPU"
  },
  "nbformat": 4,
  "nbformat_minor": 5
}